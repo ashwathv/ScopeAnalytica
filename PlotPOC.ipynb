{
 "cells": [
  {
   "cell_type": "code",
   "execution_count": 2,
   "metadata": {},
   "outputs": [],
   "source": [
    "    import pandas as pd\n"
   ]
  },
  {
   "cell_type": "code",
   "execution_count": 3,
   "metadata": {},
   "outputs": [
    {
     "data": {
      "text/plain": [
       "'\\nThe above list of null columns has thelits of columsn to be dropped of, assuming might \\nnot be of great use for current analysis. Still will be executed while confirming.\\n\\n'"
      ]
     },
     "execution_count": 3,
     "metadata": {},
     "output_type": "execute_result"
    }
   ],
   "source": [
    "df = pd.concat(pd.read_excel(\"E:\\ScopeAnalytica\\skeleton\\data\\DATA.xlsx\",sheet_name=None),ignore_index = True)\n",
    "null_columns = []\n",
    "all_columns = df.columns\n",
    "\n",
    "for col in all_columns:\n",
    "    temp_list = df[col].unique()\n",
    "    if(len(temp_list) <= 1):\n",
    "        null_columns.append(col)\n",
    "\n",
    "# print(null_columns) \n",
    "df_old = df\n",
    "df.drop(null_columns , axis = 1 , inplace = True)\n",
    "'''\n",
    "The above list of null columns has thelits of columsn to be dropped of, assuming might \n",
    "not be of great use for current analysis. Still will be executed while confirming.\n",
    "\n",
    "'''\n",
    "\n"
   ]
  },
  {
   "cell_type": "code",
   "execution_count": 4,
   "metadata": {},
   "outputs": [
    {
     "name": "stdout",
     "output_type": "stream",
     "text": [
      "    S2Saleid  S2Genid  S2BillNo  S2ComBillNo S2BillDate           S2BillTime  \\\n",
      "0  180519011        1         1            1 2019-05-18  2019-05-18 15:15:00   \n",
      "1  180519012        2         2            2 2019-05-18  2019-05-18 15:38:00   \n",
      "2  180519013        3         3            3 2019-05-18  2019-05-18 15:47:00   \n",
      "3  180519014        4         4            4 2019-05-18  2019-05-18 16:21:00   \n",
      "4  180519014        4         4            4 2019-05-18  2019-05-18 16:21:00   \n",
      "\n",
      "   S2BillMinute  S2UserID   S2CashNo  S2Name  ...  S2BillDiscAmt  S2Reduction  \\\n",
      "0           915         2  180519011     NaN  ...            0.0            0   \n",
      "1           938         0  180519012     NaN  ...            0.0            2   \n",
      "2           947         0  180519013     NaN  ...            0.0            0   \n",
      "3           981         2  180519014     NaN  ...            0.0            0   \n",
      "4           981         2  180519014     NaN  ...            0.0            0   \n",
      "\n",
      "   S2RoundOff  S2PGTotal  S2Sno  S2Proid  S2PName  S2Rate  S2OrgRate  \\\n",
      "0         0.0       20.0      1        1     IDLY    20.0       20.0   \n",
      "1         0.0       50.0      1        2     DOSA    26.0       26.0   \n",
      "2         0.0       52.0      1        2     DOSA    26.0       26.0   \n",
      "3         0.0       15.0      1        1     IDLY    15.0       15.0   \n",
      "4         0.0       26.0      2        2     DOSA    26.0       26.0   \n",
      "\n",
      "   S2CashType  \n",
      "0        CASH  \n",
      "1        CASH  \n",
      "2        CASH  \n",
      "3        CASH  \n",
      "4        CASH  \n",
      "\n",
      "[5 rows x 30 columns]\n",
      "Index(['S2Saleid', 'S2Genid', 'S2BillNo', 'S2ComBillNo', 'S2BillDate',\n",
      "       'S2BillTime', 'S2BillMinute', 'S2UserID', 'S2CashNo', 'S2Name',\n",
      "       'S2Complementary', 'S2Qty', 'S2TotalQty', 'S2PAmount', 'S2TaxPer',\n",
      "       'S2Tax', 'S2VatPer', 'S2Vat', 'S2ProTVDAmt', 'S2BillDiscPer',\n",
      "       'S2BillDiscAmt', 'S2Reduction', 'S2RoundOff', 'S2PGTotal', 'S2Sno',\n",
      "       'S2Proid', 'S2PName', 'S2Rate', 'S2OrgRate', 'S2CashType'],\n",
      "      dtype='object')\n"
     ]
    }
   ],
   "source": [
    "\n",
    "print(df.head())\n",
    "print(df.columns)"
   ]
  },
  {
   "cell_type": "code",
   "execution_count": 5,
   "metadata": {},
   "outputs": [],
   "source": [
    "''' Read unique itel list from colums S2PName put it into a list and write to a excel and later map it to correct value/ categories'''\n",
    "\n",
    "items = df['S2PName'].unique()"
   ]
  },
  {
   "cell_type": "code",
   "execution_count": 11,
   "metadata": {},
   "outputs": [],
   "source": [
    "#type(items)\n",
    "#mappingDf = pd.DataFrame(items)\n",
    "#mappingDf.to_excel('E:\\ScopeAnalytica\\skeleton\\data\\itemMappingData.xlsx', header=True, index=False)\n",
    "\n",
    "'''Already executed and sheet created , hence shld not be executed again'''"
   ]
  },
  {
   "cell_type": "code",
   "execution_count": 18,
   "metadata": {},
   "outputs": [
    {
     "data": {
      "text/html": [
       "<div>\n",
       "<style scoped>\n",
       "    .dataframe tbody tr th:only-of-type {\n",
       "        vertical-align: middle;\n",
       "    }\n",
       "\n",
       "    .dataframe tbody tr th {\n",
       "        vertical-align: top;\n",
       "    }\n",
       "\n",
       "    .dataframe thead th {\n",
       "        text-align: right;\n",
       "    }\n",
       "</style>\n",
       "<table border=\"1\" class=\"dataframe\">\n",
       "  <thead>\n",
       "    <tr style=\"text-align: right;\">\n",
       "      <th></th>\n",
       "      <th>S2PName</th>\n",
       "      <th>S2PName-Category</th>\n",
       "    </tr>\n",
       "  </thead>\n",
       "  <tbody>\n",
       "    <tr>\n",
       "      <td>234503</td>\n",
       "      <td>TEA</td>\n",
       "      <td>Beverages</td>\n",
       "    </tr>\n",
       "    <tr>\n",
       "      <td>234504</td>\n",
       "      <td>TEA</td>\n",
       "      <td>Beverages</td>\n",
       "    </tr>\n",
       "    <tr>\n",
       "      <td>234505</td>\n",
       "      <td>TEA</td>\n",
       "      <td>Beverages</td>\n",
       "    </tr>\n",
       "    <tr>\n",
       "      <td>234506</td>\n",
       "      <td>SAMOSA</td>\n",
       "      <td>Snacks</td>\n",
       "    </tr>\n",
       "    <tr>\n",
       "      <td>234507</td>\n",
       "      <td>WATER BOTTLE - 20</td>\n",
       "      <td>OOB</td>\n",
       "    </tr>\n",
       "    <tr>\n",
       "      <td>234508</td>\n",
       "      <td>VADA</td>\n",
       "      <td>Snacks</td>\n",
       "    </tr>\n",
       "    <tr>\n",
       "      <td>234509</td>\n",
       "      <td>COFFEE</td>\n",
       "      <td>Beverages</td>\n",
       "    </tr>\n",
       "    <tr>\n",
       "      <td>234510</td>\n",
       "      <td>GHEE PODI DOSA</td>\n",
       "      <td>Food</td>\n",
       "    </tr>\n",
       "    <tr>\n",
       "      <td>234511</td>\n",
       "      <td>DOSA</td>\n",
       "      <td>Food</td>\n",
       "    </tr>\n",
       "    <tr>\n",
       "      <td>234512</td>\n",
       "      <td>POORI</td>\n",
       "      <td>Food</td>\n",
       "    </tr>\n",
       "    <tr>\n",
       "      <td>234513</td>\n",
       "      <td>TEA</td>\n",
       "      <td>Beverages</td>\n",
       "    </tr>\n",
       "    <tr>\n",
       "      <td>234514</td>\n",
       "      <td>DOSA</td>\n",
       "      <td>Food</td>\n",
       "    </tr>\n",
       "    <tr>\n",
       "      <td>234515</td>\n",
       "      <td>COFFEE</td>\n",
       "      <td>Beverages</td>\n",
       "    </tr>\n",
       "    <tr>\n",
       "      <td>234516</td>\n",
       "      <td>DOSA</td>\n",
       "      <td>Food</td>\n",
       "    </tr>\n",
       "    <tr>\n",
       "      <td>234517</td>\n",
       "      <td>VADA</td>\n",
       "      <td>Snacks</td>\n",
       "    </tr>\n",
       "    <tr>\n",
       "      <td>234518</td>\n",
       "      <td>IDLY</td>\n",
       "      <td>Food</td>\n",
       "    </tr>\n",
       "    <tr>\n",
       "      <td>234519</td>\n",
       "      <td>DOSA</td>\n",
       "      <td>Food</td>\n",
       "    </tr>\n",
       "    <tr>\n",
       "      <td>234520</td>\n",
       "      <td>IDLY</td>\n",
       "      <td>Food</td>\n",
       "    </tr>\n",
       "    <tr>\n",
       "      <td>234521</td>\n",
       "      <td>DOSA</td>\n",
       "      <td>Food</td>\n",
       "    </tr>\n",
       "    <tr>\n",
       "      <td>234522</td>\n",
       "      <td>POORI</td>\n",
       "      <td>Food</td>\n",
       "    </tr>\n",
       "    <tr>\n",
       "      <td>234523</td>\n",
       "      <td>TEA</td>\n",
       "      <td>Beverages</td>\n",
       "    </tr>\n",
       "    <tr>\n",
       "      <td>234524</td>\n",
       "      <td>COFFEE</td>\n",
       "      <td>Beverages</td>\n",
       "    </tr>\n",
       "    <tr>\n",
       "      <td>234525</td>\n",
       "      <td>SAMOSA</td>\n",
       "      <td>Snacks</td>\n",
       "    </tr>\n",
       "    <tr>\n",
       "      <td>234526</td>\n",
       "      <td>WATER BOTTLE - 20</td>\n",
       "      <td>OOB</td>\n",
       "    </tr>\n",
       "    <tr>\n",
       "      <td>234527</td>\n",
       "      <td>TEA</td>\n",
       "      <td>Beverages</td>\n",
       "    </tr>\n",
       "    <tr>\n",
       "      <td>234528</td>\n",
       "      <td>PODI DOSA</td>\n",
       "      <td>Food</td>\n",
       "    </tr>\n",
       "    <tr>\n",
       "      <td>234529</td>\n",
       "      <td>VADA</td>\n",
       "      <td>Snacks</td>\n",
       "    </tr>\n",
       "    <tr>\n",
       "      <td>234530</td>\n",
       "      <td>GHEE DOSA</td>\n",
       "      <td>Food</td>\n",
       "    </tr>\n",
       "    <tr>\n",
       "      <td>234531</td>\n",
       "      <td>BOOST</td>\n",
       "      <td>Beverages</td>\n",
       "    </tr>\n",
       "    <tr>\n",
       "      <td>234532</td>\n",
       "      <td>GHEE DOSA</td>\n",
       "      <td>Food</td>\n",
       "    </tr>\n",
       "    <tr>\n",
       "      <td>234533</td>\n",
       "      <td>COFFEE</td>\n",
       "      <td>Beverages</td>\n",
       "    </tr>\n",
       "    <tr>\n",
       "      <td>234534</td>\n",
       "      <td>SAMOSA</td>\n",
       "      <td>Snacks</td>\n",
       "    </tr>\n",
       "    <tr>\n",
       "      <td>234535</td>\n",
       "      <td>COFFEE</td>\n",
       "      <td>Beverages</td>\n",
       "    </tr>\n",
       "    <tr>\n",
       "      <td>234536</td>\n",
       "      <td>DOSA</td>\n",
       "      <td>Food</td>\n",
       "    </tr>\n",
       "    <tr>\n",
       "      <td>234537</td>\n",
       "      <td>MAAZA MINI</td>\n",
       "      <td>Beverages</td>\n",
       "    </tr>\n",
       "    <tr>\n",
       "      <td>234538</td>\n",
       "      <td>SAMOSA</td>\n",
       "      <td>Snacks</td>\n",
       "    </tr>\n",
       "    <tr>\n",
       "      <td>234539</td>\n",
       "      <td>IDLY</td>\n",
       "      <td>Food</td>\n",
       "    </tr>\n",
       "    <tr>\n",
       "      <td>234540</td>\n",
       "      <td>COFFEE</td>\n",
       "      <td>Beverages</td>\n",
       "    </tr>\n",
       "    <tr>\n",
       "      <td>234541</td>\n",
       "      <td>MAAZA MINI</td>\n",
       "      <td>Beverages</td>\n",
       "    </tr>\n",
       "    <tr>\n",
       "      <td>234542</td>\n",
       "      <td>VENNILA CONE</td>\n",
       "      <td>IceCream</td>\n",
       "    </tr>\n",
       "    <tr>\n",
       "      <td>234543</td>\n",
       "      <td>COFFEE</td>\n",
       "      <td>Beverages</td>\n",
       "    </tr>\n",
       "    <tr>\n",
       "      <td>234544</td>\n",
       "      <td>COFFEE</td>\n",
       "      <td>Beverages</td>\n",
       "    </tr>\n",
       "    <tr>\n",
       "      <td>234545</td>\n",
       "      <td>POMEGRANATE JUICE</td>\n",
       "      <td>Juice</td>\n",
       "    </tr>\n",
       "    <tr>\n",
       "      <td>234546</td>\n",
       "      <td>COFFEE</td>\n",
       "      <td>Beverages</td>\n",
       "    </tr>\n",
       "    <tr>\n",
       "      <td>234547</td>\n",
       "      <td>SAMOSA</td>\n",
       "      <td>Snacks</td>\n",
       "    </tr>\n",
       "    <tr>\n",
       "      <td>234548</td>\n",
       "      <td>SAMOSA</td>\n",
       "      <td>Snacks</td>\n",
       "    </tr>\n",
       "    <tr>\n",
       "      <td>234549</td>\n",
       "      <td>IDLY</td>\n",
       "      <td>Food</td>\n",
       "    </tr>\n",
       "    <tr>\n",
       "      <td>234550</td>\n",
       "      <td>GHEE DOSA</td>\n",
       "      <td>Food</td>\n",
       "    </tr>\n",
       "    <tr>\n",
       "      <td>234551</td>\n",
       "      <td>PODI DOSA</td>\n",
       "      <td>Food</td>\n",
       "    </tr>\n",
       "    <tr>\n",
       "      <td>234552</td>\n",
       "      <td>TEA</td>\n",
       "      <td>Beverages</td>\n",
       "    </tr>\n",
       "  </tbody>\n",
       "</table>\n",
       "</div>"
      ],
      "text/plain": [
       "                  S2PName S2PName-Category\n",
       "234503                TEA        Beverages\n",
       "234504                TEA        Beverages\n",
       "234505                TEA        Beverages\n",
       "234506             SAMOSA           Snacks\n",
       "234507  WATER BOTTLE - 20              OOB\n",
       "234508               VADA           Snacks\n",
       "234509             COFFEE        Beverages\n",
       "234510     GHEE PODI DOSA             Food\n",
       "234511               DOSA             Food\n",
       "234512              POORI             Food\n",
       "234513                TEA        Beverages\n",
       "234514               DOSA             Food\n",
       "234515             COFFEE        Beverages\n",
       "234516               DOSA             Food\n",
       "234517               VADA           Snacks\n",
       "234518               IDLY             Food\n",
       "234519               DOSA             Food\n",
       "234520               IDLY             Food\n",
       "234521               DOSA             Food\n",
       "234522              POORI             Food\n",
       "234523                TEA        Beverages\n",
       "234524             COFFEE        Beverages\n",
       "234525             SAMOSA           Snacks\n",
       "234526  WATER BOTTLE - 20              OOB\n",
       "234527                TEA        Beverages\n",
       "234528          PODI DOSA             Food\n",
       "234529               VADA           Snacks\n",
       "234530          GHEE DOSA             Food\n",
       "234531              BOOST        Beverages\n",
       "234532          GHEE DOSA             Food\n",
       "234533             COFFEE        Beverages\n",
       "234534             SAMOSA           Snacks\n",
       "234535             COFFEE        Beverages\n",
       "234536               DOSA             Food\n",
       "234537         MAAZA MINI        Beverages\n",
       "234538             SAMOSA           Snacks\n",
       "234539               IDLY             Food\n",
       "234540             COFFEE        Beverages\n",
       "234541         MAAZA MINI        Beverages\n",
       "234542       VENNILA CONE         IceCream\n",
       "234543             COFFEE        Beverages\n",
       "234544             COFFEE        Beverages\n",
       "234545  POMEGRANATE JUICE            Juice\n",
       "234546             COFFEE        Beverages\n",
       "234547             SAMOSA           Snacks\n",
       "234548             SAMOSA           Snacks\n",
       "234549               IDLY             Food\n",
       "234550          GHEE DOSA             Food\n",
       "234551          PODI DOSA             Food\n",
       "234552                TEA        Beverages"
      ]
     },
     "execution_count": 18,
     "metadata": {},
     "output_type": "execute_result"
    }
   ],
   "source": [
    "\n",
    "'''Below code Maps the food and its category to the main dataframe'''\n",
    "\n",
    "df_map = pd.read_excel('E:\\ScopeAnalytica\\skeleton\\data\\itemMappingData.xlsx')\n",
    "df['S2PName-Category'] = df['S2PName'].map(df_map.set_index('S2PName')['S2PName-Category'])\n",
    "df[['S2PName','S2PName-Category']].head(50)\n",
    "df[['S2PName','S2PName-Category']].tail(50)"
   ]
  },
  {
   "cell_type": "code",
   "execution_count": 19,
   "metadata": {},
   "outputs": [
    {
     "data": {
      "text/plain": [
       "Food         140692\n",
       "Beverages     43466\n",
       "Snacks        22069\n",
       "Others        18412\n",
       "Juice          5363\n",
       "OOB            3326\n",
       "IceCream        896\n",
       "Check           321\n",
       "Name: S2PName-Category, dtype: int64"
      ]
     },
     "execution_count": 19,
     "metadata": {},
     "output_type": "execute_result"
    }
   ],
   "source": [
    "df['S2PName-Category'].value_counts()"
   ]
  },
  {
   "cell_type": "code",
   "execution_count": 100,
   "metadata": {},
   "outputs": [
    {
     "data": {
      "text/plain": [
       "IDLY                  19749\n",
       "COFFEE                17059\n",
       "PARCEL                16548\n",
       "DOSA                  14611\n",
       "CHAPPATHI             12709\n",
       "TEA                   12313\n",
       "IDLY 4 PARCEL         11332\n",
       "VADA                  10764\n",
       "MEALS                  9431\n",
       "IDLY 3 PARCEL          6611\n",
       "IDLY 2 PARCEL          6566\n",
       "SAMOSA                 6554\n",
       "PARCEL MEALS           5478\n",
       "POORI                  5217\n",
       "DOSA PARCEL            3255\n",
       "PONGAL                 3065\n",
       "VEG BIRIYANI           2888\n",
       "HOT WATER              2757\n",
       "SAMBAR RICE            2689\n",
       "CHAPPATHI PARCEL       2622\n",
       "CURD RICE              2594\n",
       "IDLY 5 PARCEL          2427\n",
       "MILK                   2337\n",
       "SAMBAR RICE PARCEL     2276\n",
       "MAAZA MINI             2208\n",
       "POMEGRANATE JUICE      2029\n",
       "POORI PARCEL           1965\n",
       "VEG FRIED RICE         1921\n",
       "CURD RICE PARCEL       1836\n",
       "PONGAL PARCEL          1790\n",
       "Name: S2PName, dtype: int64"
      ]
     },
     "execution_count": 100,
     "metadata": {},
     "output_type": "execute_result"
    }
   ],
   "source": [
    "df['S2PName'].value_counts().head(30)\n"
   ]
  },
  {
   "cell_type": "code",
   "execution_count": 91,
   "metadata": {},
   "outputs": [
    {
     "data": {
      "text/plain": [
       "PARCEL                16548\n",
       "IDLY 4 PARCEL         11332\n",
       "IDLY 3 PARCEL          6611\n",
       "IDLY 2 PARCEL          6566\n",
       "PARCEL MEALS           5478\n",
       "DOSA PARCEL            3255\n",
       "CHAPPATHI PARCEL       2622\n",
       "IDLY 5 PARCEL          2427\n",
       "SAMBAR RICE PARCEL     2276\n",
       "POORI PARCEL           1965\n",
       "CURD RICE PARCEL       1836\n",
       "PONGAL PARCEL          1790\n",
       "IDLY 6 PARCEL          1774\n",
       "TOMATO PARCEL           608\n",
       "PARCEL COFFEE           574\n",
       "PARCEL TEA              369\n",
       "PARCEL MILK             235\n",
       "Name: S2PName, dtype: int64"
      ]
     },
     "execution_count": 91,
     "metadata": {},
     "output_type": "execute_result"
    }
   ],
   "source": [
    "#Data frame filtered with parcel items alone\n",
    "df_with_parcel = df[df['S2PName'].str.contains('PARCEL' , na=False)]\n",
    "df_with_parcel['S2PName'].value_counts()"
   ]
  },
  {
   "cell_type": "code",
   "execution_count": 86,
   "metadata": {},
   "outputs": [
    {
     "data": {
      "text/plain": [
       "IDLY 4 PARCEL    11332\n",
       "IDLY 3 PARCEL     6611\n",
       "IDLY 2 PARCEL     6566\n",
       "IDLY 5 PARCEL     2427\n",
       "IDLY 6 PARCEL     1774\n",
       "Name: S2PName, dtype: int64"
      ]
     },
     "execution_count": 86,
     "metadata": {},
     "output_type": "execute_result"
    }
   ],
   "source": [
    "#Filter data frame with parcel idlies , this included parcel with 2 3 4 etc indlies\n",
    "df_with_parcel_idly = df_with_parcel[df_with_parcel['S2PName'].str.contains('IDLY')]\n",
    "\n",
    "df_with_parcel_idly['S2PName'].value_counts()"
   ]
  },
  {
   "cell_type": "code",
   "execution_count": 82,
   "metadata": {},
   "outputs": [
    {
     "data": {
      "text/plain": [
       "28710"
      ]
     },
     "execution_count": 82,
     "metadata": {},
     "output_type": "execute_result"
    }
   ],
   "source": [
    "#below code retuns total number of idly parcels so far\n",
    "df_with_parcel_idly['S2PName'].str.contains('IDLY').value_counts()[True]"
   ]
  },
  {
   "cell_type": "code",
   "execution_count": 101,
   "metadata": {},
   "outputs": [
    {
     "data": {
      "text/plain": [
       "DOSA                    14611\n",
       "DOSA PARCEL              3255\n",
       "MASALA DOSAI             1345\n",
       "GHEE DOSA                1112\n",
       "PODI DOSA                 920\n",
       "ONION DOSAI               604\n",
       "PODI ONION DOSAI          166\n",
       "RAVA DOSA                 115\n",
       "GHEE PODI DOSA             57\n",
       "PAPER DOSA                 42\n",
       "GHEE ONION PODI DOSA       33\n",
       "CHEESE MASALA DOSA         14\n",
       "PANEER MASALA DOSA         14\n",
       "MYSORE MASALA DOSA         13\n",
       "GHEE DOSAI                  6\n",
       "Name: S2PName, dtype: int64"
      ]
     },
     "execution_count": 101,
     "metadata": {},
     "output_type": "execute_result"
    }
   ],
   "source": [
    "#Data frame filtered with parcel items alone\n",
    "df_with_dosa = df[df['S2PName'].str.contains('DOSA' , na=False)]\n",
    "df_with_dosa['S2PName'].value_counts()"
   ]
  },
  {
   "cell_type": "code",
   "execution_count": 102,
   "metadata": {},
   "outputs": [
    {
     "data": {
      "text/plain": [
       "(234553, 30)"
      ]
     },
     "execution_count": 102,
     "metadata": {},
     "output_type": "execute_result"
    }
   ],
   "source": [
    "df.shape"
   ]
  },
  {
   "cell_type": "code",
   "execution_count": 104,
   "metadata": {},
   "outputs": [
    {
     "data": {
      "text/plain": [
       "S2Saleid                    int64\n",
       "S2Genid                     int64\n",
       "S2BillNo                    int64\n",
       "S2ComBillNo                 int64\n",
       "S2BillDate         datetime64[ns]\n",
       "S2BillTime         datetime64[ns]\n",
       "S2BillMinute                int64\n",
       "S2UserID                    int64\n",
       "S2CashNo                    int64\n",
       "S2Name                    float64\n",
       "S2Complementary             int64\n",
       "S2Qty                     float64\n",
       "S2TotalQty                float64\n",
       "S2PAmount                 float64\n",
       "S2TaxPer                  float64\n",
       "S2Tax                     float64\n",
       "S2VatPer                  float64\n",
       "S2Vat                     float64\n",
       "S2ProTVDAmt               float64\n",
       "S2BillDiscPer             float64\n",
       "S2BillDiscAmt             float64\n",
       "S2Reduction                 int64\n",
       "S2RoundOff                float64\n",
       "S2PGTotal                 float64\n",
       "S2Sno                       int64\n",
       "S2Proid                     int64\n",
       "S2PName                    object\n",
       "S2Rate                    float64\n",
       "S2OrgRate                 float64\n",
       "S2CashType                 object\n",
       "dtype: object"
      ]
     },
     "execution_count": 104,
     "metadata": {},
     "output_type": "execute_result"
    }
   ],
   "source": [
    "df.dtypes"
   ]
  },
  {
   "cell_type": "code",
   "execution_count": null,
   "metadata": {},
   "outputs": [],
   "source": []
  }
 ],
 "metadata": {
  "kernelspec": {
   "display_name": "Python 3",
   "language": "python",
   "name": "python3"
  },
  "language_info": {
   "codemirror_mode": {
    "name": "ipython",
    "version": 3
   },
   "file_extension": ".py",
   "mimetype": "text/x-python",
   "name": "python",
   "nbconvert_exporter": "python",
   "pygments_lexer": "ipython3",
   "version": "3.7.4"
  }
 },
 "nbformat": 4,
 "nbformat_minor": 2
}
